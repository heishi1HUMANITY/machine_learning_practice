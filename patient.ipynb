{
  "nbformat": 4,
  "nbformat_minor": 0,
  "metadata": {
    "colab": {
      "name": "patient.ipynb",
      "provenance": [],
      "authorship_tag": "ABX9TyNsAdYjyAejmmNZokPUf5pf",
      "include_colab_link": true
    },
    "kernelspec": {
      "name": "python3",
      "display_name": "Python 3"
    }
  },
  "cells": [
    {
      "cell_type": "markdown",
      "metadata": {
        "id": "view-in-github",
        "colab_type": "text"
      },
      "source": [
        "<a href=\"https://colab.research.google.com/github/heishi1HUMANITY/machine_learning_practice/blob/master/patient.ipynb\" target=\"_parent\"><img src=\"https://colab.research.google.com/assets/colab-badge.svg\" alt=\"Open In Colab\"/></a>"
      ]
    },
    {
      "cell_type": "code",
      "metadata": {
        "id": "fprkmp9Y0Bct",
        "colab_type": "code",
        "outputId": "badc3a9a-bf95-478f-853c-657e004140af",
        "colab": {
          "base_uri": "https://localhost:8080/",
          "height": 282
        }
      },
      "source": [
        "import numpy as np\n",
        "import pandas as pd\n",
        "import matplotlib.pyplot as plt\n",
        "\n",
        "# データの読み込み\n",
        "data = pd.read_csv('https://raw.githubusercontent.com/heishi1HUMANITY/machine_learning_practice/master/patient.csv')\n",
        "train_x = np.arange(len(data))\n",
        "train_y = np.array(data['total_confirmed_cases'])\n",
        "\n",
        "# 標準化\n",
        "mu = train_x.mean()\n",
        "sigma = train_x.std()\n",
        "standardize = lambda x: (x - mu) / sigma\n",
        "train_z = standardize(train_x)\n",
        "\n",
        "# パラメータの初期化\n",
        "np.random.seed(seed=0)\n",
        "theta = np.random.rand(5)\n",
        "\n",
        "# データの行列を作成\n",
        "to_matrix = lambda x: np.vstack([np.ones(x.shape[0]), x, x ** 2, x ** 3, x**4]).T\n",
        "X = to_matrix(train_z)\n",
        "\n",
        "# 予測関数\n",
        "f = lambda x: np.dot(x, theta)\n",
        "# 平均二乗誤差\n",
        "MSE = lambda x, y: (1 / x.shape[0]) * np.sum((y - f(X)) ** 2)\n",
        "\n",
        "# 学習率\n",
        "ETA = 1e-3\n",
        "# 誤差の差分\n",
        "diff = 1\n",
        "# 学習\n",
        "errors = [MSE(X, train_y)]\n",
        "while diff > 1e-2:\n",
        "    # 確率的勾配降下法\n",
        "    p = np.random.permutation(X.shape[0])\n",
        "    for x, y in zip(X[p,:], train_y[p]):\n",
        "        theta = theta - ETA * (f(x)- y) * x\n",
        "    # # 最急降下法\n",
        "    # theta = theta - ETA * np.dot(f(X) - train_y, X)\n",
        "    errors.append(MSE(X, train_y))\n",
        "    diff = errors[-2] - errors[-1]    \n",
        "\n",
        "print('prediction: ', f(to_matrix(np.array([standardize(len(data))]))))\n",
        "x = np.linspace(0, len(data) + 5, 100)\n",
        "plt.plot(train_x, train_y, label='patients')\n",
        "plt.plot(x, f(to_matrix(standardize(x))), label='prediction', linestyle='dashed')\n",
        "plt.legend(loc='best')\n",
        "plt.show()"
      ],
      "execution_count": 0,
      "outputs": [
        {
          "output_type": "stream",
          "text": [
            "prediction:  [13921.56781078]\n"
          ],
          "name": "stdout"
        },
        {
          "output_type": "display_data",
          "data": {
            "image/png": "[encoded data removed]",
            "text/plain": [
              "<Figure size 432x288 with 1 Axes>"
            ]
          },
          "metadata": {
            "tags": [],
            "needs_background": "light"
          }
        }
      ]
    }
  ]
}