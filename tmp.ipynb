{
  "nbformat": 4,
  "nbformat_minor": 0,
  "metadata": {
    "colab": {
      "name": "tmp.ipynb",
      "provenance": [],
      "authorship_tag": "ABX9TyOl7AouqQfDAuDraKm65E5c",
      "include_colab_link": true
    },
    "kernelspec": {
      "name": "python3",
      "display_name": "Python 3"
    }
  },
  "cells": [
    {
      "cell_type": "markdown",
      "metadata": {
        "id": "view-in-github",
        "colab_type": "text"
      },
      "source": [
        "<a href=\"https://colab.research.google.com/github/heishi1HUMANITY/machine_learning_practice/blob/master/tmp.ipynb\" target=\"_parent\"><img src=\"https://colab.research.google.com/assets/colab-badge.svg\" alt=\"Open In Colab\"/></a>"
      ]
    },
    {
      "cell_type": "code",
      "metadata": {
        "id": "KG1DONX_0m2P",
        "colab_type": "code",
        "colab": {
          "base_uri": "https://localhost:8080/",
          "height": 299
        },
        "outputId": "9cb60494-6d95-47e1-d4fd-6b0634fa22fb"
      },
      "source": [
        "import numpy as np\n",
        "import pandas as pd\n",
        "import matplotlib.pyplot as plt\n",
        "from sklearn.model_selection import GridSearchCV\n",
        "from sklearn.preprocessing import StandardScaler, PolynomialFeatures\n",
        "from sklearn.pipeline import make_pipeline\n",
        "from sklearn.linear_model import Lasso\n",
        "\n",
        "# データの読み込み\n",
        "data = pd.read_csv('https://raw.githubusercontent.com/heishi1HUMANITY/machine_learning_practice/master/patient.csv')\n",
        "X = np.arange(len(data))[:,np.newaxis]\n",
        "y = np.array(data['total_confirmed_cases'])\n",
        "\n",
        "# 曜日の追加\n",
        "# day = ['Tue', 'Wed', 'Thu', 'Fri', 'Sat', 'Sun', 'Mon'] \n",
        "# days = pd.DataFrame([day[i % 7] for i in range(len(data) + 5)], columns=['day_of_the_week'])\n",
        "# days_dummied = pd.get_dummies(days)\n",
        "# X = np.hstack([X, np.array(days_dummied[:len(data)])])\n",
        "\n",
        "# pipelineの構築\n",
        "pipe = make_pipeline(StandardScaler(), PolynomialFeatures(), Lasso(max_iter=10000))\n",
        "\n",
        "# GridSearch\n",
        "param_grid = {\n",
        "    'polynomialfeatures__degree': [1, 2, 3, 4, 5],\n",
        "    'lasso__alpha': [0.001, 0.01, 0.1, 1, 10, 20, 30, 40, 50]\n",
        "}\n",
        "grid = GridSearchCV(pipe, param_grid, cv=5, n_jobs=-1)\n",
        "grid.fit(X, y)\n",
        "\n",
        "print(f'best params: {grid.best_params_}')\n",
        "print(f'prediction: {grid.predict(np.array([len(data)])[:, np.newaxis])}')\n",
        "# print(f'prediction: {grid.predict(np.hstack([np.array([len(data)]), np.array(days_dummied)[len(data)]]).reshape(1,8))}')\n",
        "\n",
        "x = np.arange(0, len(data) + 5)[:, np.newaxis]\n",
        "# x = np.hstack([x, np.array(days_dummied)])\n",
        "\n",
        "plt.plot(X[:, 0], y, label='patients')\n",
        "plt.plot(x[:, 0], grid.predict(x), linestyle='dashed', label='prediction')\n",
        "plt.legend(loc='best')\n",
        "plt.show()\n"
      ],
      "execution_count": 2,
      "outputs": [
        {
          "output_type": "stream",
          "text": [
            "best params: {'lasso__alpha': 30, 'polynomialfeatures__degree': 4}\n",
            "prediction: [13883.8442517]\n"
          ],
          "name": "stdout"
        },
        {
          "output_type": "display_data",
          "data": {
            "image/png": "[encoded data removed]",
            "text/plain": [
              "<Figure size 432x288 with 1 Axes>"
            ]
          },
          "metadata": {
            "tags": [],
            "needs_background": "light"
          }
        }
      ]
    },
    {
      "cell_type": "code",
      "metadata": {
        "id": "Bp15MFkA0rvn",
        "colab_type": "code",
        "colab": {}
      },
      "source": [
        ""
      ],
      "execution_count": 0,
      "outputs": []
    }
  ]
}